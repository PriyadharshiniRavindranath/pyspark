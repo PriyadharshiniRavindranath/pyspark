{
 "cells": [
  {
   "cell_type": "code",
   "execution_count": 1,
   "id": "196b1377",
   "metadata": {},
   "outputs": [
    {
     "name": "stderr",
     "output_type": "stream",
     "text": [
      "C:\\Users\\HP\\python app\\lib\\site-packages\\scipy\\__init__.py:146: UserWarning: A NumPy version >=1.16.5 and <1.23.0 is required for this version of SciPy (detected version 1.26.4\n",
      "  warnings.warn(f\"A NumPy version >={np_minversion} and <{np_maxversion}\"\n"
     ]
    }
   ],
   "source": [
    "from pyspark.sql import SparkSession\n",
    "from pyspark.ml.classification import RandomForestClassifier\n",
    "from pyspark.ml.feature import VectorAssembler\n",
    "from pyspark.ml.evaluation import MulticlassClassificationEvaluator\n",
    "from pyspark.sql.functions import when"
   ]
  },
  {
   "cell_type": "code",
   "execution_count": 2,
   "id": "074ee5be",
   "metadata": {},
   "outputs": [
    {
     "name": "stdout",
     "output_type": "stream",
     "text": [
      "root\n",
      " |-- Email: string (nullable = true)\n",
      " |-- Address: string (nullable = true)\n",
      " |-- Avatar: string (nullable = true)\n",
      " |-- Avg Session Length: double (nullable = true)\n",
      " |-- Time on App: double (nullable = true)\n",
      " |-- Time on Website: double (nullable = true)\n",
      " |-- Length of Membership: double (nullable = true)\n",
      " |-- Yearly Amount Spent: double (nullable = true)\n",
      "\n",
      "+--------------------+--------------------+---------+------------------+------------------+------------------+--------------------+-------------------+\n",
      "|               Email|             Address|   Avatar|Avg Session Length|       Time on App|   Time on Website|Length of Membership|Yearly Amount Spent|\n",
      "+--------------------+--------------------+---------+------------------+------------------+------------------+--------------------+-------------------+\n",
      "|mstephenson@ferna...|835 Frank TunnelW...|   Violet| 34.49726772511229| 12.65565114916675| 39.57766801952616|  4.0826206329529615|  587.9510539684005|\n",
      "|   hduke@hotmail.com|4547 Archer Commo...|DarkGreen| 31.92627202636016|11.109460728682564|37.268958868297744|    2.66403418213262|  392.2049334443264|\n",
      "|    pallen@yahoo.com|24645 Valerie Uni...|   Bisque|33.000914755642675|11.330278057777512|37.110597442120856|   4.104543202376424| 487.54750486747207|\n",
      "+--------------------+--------------------+---------+------------------+------------------+------------------+--------------------+-------------------+\n",
      "only showing top 3 rows\n",
      "\n",
      "Random Forest Classifier accuracy: 0.8865248226950354\n",
      "+--------------------+-----+----------+\n",
      "|            features|churn|prediction|\n",
      "+--------------------+-----+----------+\n",
      "|[29.5324289670579...|    1|       1.0|\n",
      "|[30.4925366965402...|    1|       1.0|\n",
      "|[30.5743636841713...|    1|       1.0|\n",
      "|[31.1695067987115...|    1|       1.0|\n",
      "|[31.2606468698795...|    1|       1.0|\n",
      "+--------------------+-----+----------+\n",
      "only showing top 5 rows\n",
      "\n"
     ]
    }
   ],
   "source": [
    "spark=SparkSession.builder.appName('Random Forest Classifier').getOrCreate()\n",
    "data=spark.read.csv(r'D:\\priya\\Ecommerce_Customers.csv',header=True,inferSchema=True)\n",
    "data.printSchema()\n",
    "data.show(3)\n",
    "data=data.withColumn(\"churn\",when(data['Yearly Amount Spent']<500,1).otherwise(0))\n",
    "Assembler=VectorAssembler(\n",
    "    inputCols=['Avg Session Length','Time on App','Time on Website','Length of Membership'],\n",
    "    outputCol='features'\n",
    ")\n",
    "output=Assembler.transform(data)\n",
    "final_data=output.select('features','churn')\n",
    "train_data,test_data=final_data.randomSplit([0.7,0.3])\n",
    "rf=RandomForestClassifier(labelCol='churn',featuresCol='features')\n",
    "rf_model=rf.fit(train_data)\n",
    "pred_data=rf_model.transform(test_data)\n",
    "evaluator=MulticlassClassificationEvaluator(labelCol='churn',predictionCol='prediction',metricName='accuracy')\n",
    "accuracy=evaluator.evaluate(pred_data)\n",
    "print(\"Random Forest Classifier accuracy:\",accuracy)\n",
    "pred_data.select(\"features\",\"churn\",\"prediction\").show(5)\n",
    "spark.stop()"
   ]
  },
  {
   "cell_type": "code",
   "execution_count": null,
   "id": "9964ba8c",
   "metadata": {},
   "outputs": [],
   "source": []
  }
 ],
 "metadata": {
  "kernelspec": {
   "display_name": "Python 3 (ipykernel)",
   "language": "python",
   "name": "python3"
  },
  "language_info": {
   "codemirror_mode": {
    "name": "ipython",
    "version": 3
   },
   "file_extension": ".py",
   "mimetype": "text/x-python",
   "name": "python",
   "nbconvert_exporter": "python",
   "pygments_lexer": "ipython3",
   "version": "3.9.12"
  }
 },
 "nbformat": 4,
 "nbformat_minor": 5
}
